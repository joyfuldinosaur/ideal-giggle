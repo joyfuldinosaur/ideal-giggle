{
  "nbformat": 4,
  "nbformat_minor": 0,
  "metadata": {
    "colab": {
      "name": "Analytic Results.ipynb",
      "version": "0.3.2",
      "provenance": [],
      "collapsed_sections": [],
      "include_colab_link": true
    },
    "kernelspec": {
      "name": "python3",
      "display_name": "Python 3"
    }
  },
  "cells": [
    {
      "cell_type": "markdown",
      "metadata": {
        "id": "view-in-github",
        "colab_type": "text"
      },
      "source": [
        "<a href=\"https://colab.research.google.com/github/joyfuldinosaur/ideal-giggle/blob/master/Analytic_Results.ipynb\" target=\"_parent\"><img src=\"https://colab.research.google.com/assets/colab-badge.svg\" alt=\"Open In Colab\"/></a>"
      ]
    },
    {
      "metadata": {
        "id": "G2gXIKMyf2yC",
        "colab_type": "code",
        "colab": {}
      },
      "cell_type": "code",
      "source": [
        "import seaborn as sns\n",
        "import pandas as pd\n",
        "from google.colab import drive\n",
        "import pandas as pd\n",
        "import numpy as np\n",
        "from sklearn.metrics import explained_variance_score, mean_absolute_error, median_absolute_error\n",
        "from sklearn.model_selection import train_test_split\n",
        "import tensorflow as tf\n",
        "\n",
        "from sklearn.preprocessing import MinMaxScaler\n",
        "from sklearn.preprocessing import LabelEncoder\n",
        "from sklearn.feature_extraction.text import CountVectorizer\n",
        "from sklearn.linear_model import LogisticRegression\n",
        "from sklearn.datasets import load_files\n",
        "from sklearn.model_selection import GridSearchCV\n",
        "import numpy as np\n",
        "import matplotlib.pyplot as plt\n",
        "import statsmodels\n"
      ],
      "execution_count": 0,
      "outputs": []
    },
    {
      "metadata": {
        "id": "xm_8q_umf_yO",
        "colab_type": "code",
        "outputId": "4ecf555a-76d5-4271-dcbd-13aed41c6f33",
        "colab": {
          "base_uri": "https://localhost:8080/",
          "height": 129
        }
      },
      "cell_type": "code",
      "source": [
        "drive.mount('/content/drive', force_remount=True)"
      ],
      "execution_count": 2,
      "outputs": [
        {
          "output_type": "stream",
          "text": [
            "Go to this URL in a browser: https://accounts.google.com/o/oauth2/auth?client_id=947318989803-6bn6qk8qdgf4n4g3pfee6491hc0brc4i.apps.googleusercontent.com&redirect_uri=urn%3Aietf%3Awg%3Aoauth%3A2.0%3Aoob&scope=email%20https%3A%2F%2Fwww.googleapis.com%2Fauth%2Fdocs.test%20https%3A%2F%2Fwww.googleapis.com%2Fauth%2Fdrive%20https%3A%2F%2Fwww.googleapis.com%2Fauth%2Fdrive.photos.readonly%20https%3A%2F%2Fwww.googleapis.com%2Fauth%2Fpeopleapi.readonly&response_type=code\n",
            "\n",
            "Enter your authorization code:\n",
            "··········\n",
            "Mounted at /content/drive\n"
          ],
          "name": "stdout"
        }
      ]
    },
    {
      "metadata": {
        "id": "AWXzb6kagJDf",
        "colab_type": "code",
        "colab": {}
      },
      "cell_type": "code",
      "source": [
        "df = pd.read_csv(\"/content/drive/My Drive/WeatherData/weather_prepped_first_stage4.csv\", index_col=0)"
      ],
      "execution_count": 0,
      "outputs": []
    },
    {
      "metadata": {
        "id": "iWquzbjR-1ny",
        "colab_type": "code",
        "outputId": "61d76fbc-095c-48ad-8079-ee0c638b1cc3",
        "colab": {
          "base_uri": "https://localhost:8080/",
          "height": 256
        }
      },
      "cell_type": "code",
      "source": [
        "df.head()"
      ],
      "execution_count": 4,
      "outputs": [
        {
          "output_type": "execute_result",
          "data": {
            "text/html": [
              "<div>\n",
              "<style scoped>\n",
              "    .dataframe tbody tr th:only-of-type {\n",
              "        vertical-align: middle;\n",
              "    }\n",
              "\n",
              "    .dataframe tbody tr th {\n",
              "        vertical-align: top;\n",
              "    }\n",
              "\n",
              "    .dataframe thead th {\n",
              "        text-align: right;\n",
              "    }\n",
              "</style>\n",
              "<table border=\"1\" class=\"dataframe\">\n",
              "  <thead>\n",
              "    <tr style=\"text-align: right;\">\n",
              "      <th></th>\n",
              "      <th>Date</th>\n",
              "      <th>highTemp</th>\n",
              "      <th>HIGHTEMP30YR5PEau2</th>\n",
              "      <th>HT3Y3Pau2</th>\n",
              "      <th>HIGHTEMP30YR50Pau2</th>\n",
              "      <th>HT3Y7Pau2</th>\n",
              "      <th>HT3Y9Pau2</th>\n",
              "      <th>lowTemp</th>\n",
              "      <th>LOWTEMP30YR5PEau2</th>\n",
              "      <th>LT3Y3Pau2</th>\n",
              "      <th>...</th>\n",
              "      <th>highTemp.avg2</th>\n",
              "      <th>highTemp.avg3</th>\n",
              "      <th>lowTemp.avg1</th>\n",
              "      <th>lowTemp.avg2</th>\n",
              "      <th>lowTemp.avg3</th>\n",
              "      <th>rain.avg1</th>\n",
              "      <th>rain.avg2</th>\n",
              "      <th>rain.avg3</th>\n",
              "      <th>highTemp.actual</th>\n",
              "      <th>lowTemp.actual</th>\n",
              "    </tr>\n",
              "  </thead>\n",
              "  <tbody>\n",
              "    <tr>\n",
              "      <th>1</th>\n",
              "      <td>1998-01-01</td>\n",
              "      <td>-0.685144</td>\n",
              "      <td>-1.040719</td>\n",
              "      <td>-0.954007</td>\n",
              "      <td>-0.865427</td>\n",
              "      <td>-0.855360</td>\n",
              "      <td>-0.731627</td>\n",
              "      <td>-0.565026</td>\n",
              "      <td>-1.039315</td>\n",
              "      <td>-0.756305</td>\n",
              "      <td>...</td>\n",
              "      <td>40.900000</td>\n",
              "      <td>42.950000</td>\n",
              "      <td>31.705556</td>\n",
              "      <td>31.794444</td>\n",
              "      <td>30.416667</td>\n",
              "      <td>1.111111</td>\n",
              "      <td>1.555556</td>\n",
              "      <td>1.500000</td>\n",
              "      <td>50.355556</td>\n",
              "      <td>34.688889</td>\n",
              "    </tr>\n",
              "    <tr>\n",
              "      <th>2</th>\n",
              "      <td>1998-01-02</td>\n",
              "      <td>-1.178046</td>\n",
              "      <td>-1.050702</td>\n",
              "      <td>-0.929372</td>\n",
              "      <td>-0.889825</td>\n",
              "      <td>-0.824512</td>\n",
              "      <td>-0.765173</td>\n",
              "      <td>-0.831422</td>\n",
              "      <td>-1.020339</td>\n",
              "      <td>-0.806871</td>\n",
              "      <td>...</td>\n",
              "      <td>42.950000</td>\n",
              "      <td>44.283333</td>\n",
              "      <td>31.794444</td>\n",
              "      <td>30.416667</td>\n",
              "      <td>31.811111</td>\n",
              "      <td>1.555556</td>\n",
              "      <td>1.500000</td>\n",
              "      <td>1.388889</td>\n",
              "      <td>42.961111</td>\n",
              "      <td>31.705556</td>\n",
              "    </tr>\n",
              "    <tr>\n",
              "      <th>3</th>\n",
              "      <td>1998-01-03</td>\n",
              "      <td>-1.315436</td>\n",
              "      <td>-1.039471</td>\n",
              "      <td>-0.934179</td>\n",
              "      <td>-0.845909</td>\n",
              "      <td>-0.813320</td>\n",
              "      <td>-0.722798</td>\n",
              "      <td>-0.823485</td>\n",
              "      <td>-1.117155</td>\n",
              "      <td>-0.791280</td>\n",
              "      <td>...</td>\n",
              "      <td>44.283333</td>\n",
              "      <td>45.627778</td>\n",
              "      <td>30.416667</td>\n",
              "      <td>31.811111</td>\n",
              "      <td>36.027778</td>\n",
              "      <td>1.500000</td>\n",
              "      <td>1.388889</td>\n",
              "      <td>1.444444</td>\n",
              "      <td>40.900000</td>\n",
              "      <td>31.794444</td>\n",
              "    </tr>\n",
              "    <tr>\n",
              "      <th>4</th>\n",
              "      <td>1998-01-04</td>\n",
              "      <td>-1.178786</td>\n",
              "      <td>-1.198887</td>\n",
              "      <td>-0.938986</td>\n",
              "      <td>-0.868010</td>\n",
              "      <td>-0.818234</td>\n",
              "      <td>-0.753571</td>\n",
              "      <td>-0.946513</td>\n",
              "      <td>-1.324341</td>\n",
              "      <td>-0.846481</td>\n",
              "      <td>...</td>\n",
              "      <td>45.627778</td>\n",
              "      <td>46.122222</td>\n",
              "      <td>31.811111</td>\n",
              "      <td>36.027778</td>\n",
              "      <td>32.350000</td>\n",
              "      <td>1.388889</td>\n",
              "      <td>1.444444</td>\n",
              "      <td>1.388889</td>\n",
              "      <td>42.950000</td>\n",
              "      <td>30.416667</td>\n",
              "    </tr>\n",
              "    <tr>\n",
              "      <th>5</th>\n",
              "      <td>1998-01-05</td>\n",
              "      <td>-1.089909</td>\n",
              "      <td>-1.217917</td>\n",
              "      <td>-0.936582</td>\n",
              "      <td>-0.853946</td>\n",
              "      <td>-0.813047</td>\n",
              "      <td>-0.769209</td>\n",
              "      <td>-0.821996</td>\n",
              "      <td>-1.262766</td>\n",
              "      <td>-0.924016</td>\n",
              "      <td>...</td>\n",
              "      <td>46.122222</td>\n",
              "      <td>42.116667</td>\n",
              "      <td>36.027778</td>\n",
              "      <td>32.350000</td>\n",
              "      <td>26.961111</td>\n",
              "      <td>1.444444</td>\n",
              "      <td>1.388889</td>\n",
              "      <td>1.111111</td>\n",
              "      <td>44.283333</td>\n",
              "      <td>31.811111</td>\n",
              "    </tr>\n",
              "  </tbody>\n",
              "</table>\n",
              "<p>5 rows × 116 columns</p>\n",
              "</div>"
            ],
            "text/plain": [
              "         Date  highTemp  HIGHTEMP30YR5PEau2  HT3Y3Pau2  HIGHTEMP30YR50Pau2  \\\n",
              "1  1998-01-01 -0.685144           -1.040719  -0.954007           -0.865427   \n",
              "2  1998-01-02 -1.178046           -1.050702  -0.929372           -0.889825   \n",
              "3  1998-01-03 -1.315436           -1.039471  -0.934179           -0.845909   \n",
              "4  1998-01-04 -1.178786           -1.198887  -0.938986           -0.868010   \n",
              "5  1998-01-05 -1.089909           -1.217917  -0.936582           -0.853946   \n",
              "\n",
              "   HT3Y7Pau2  HT3Y9Pau2   lowTemp  LOWTEMP30YR5PEau2  LT3Y3Pau2  \\\n",
              "1  -0.855360  -0.731627 -0.565026          -1.039315  -0.756305   \n",
              "2  -0.824512  -0.765173 -0.831422          -1.020339  -0.806871   \n",
              "3  -0.813320  -0.722798 -0.823485          -1.117155  -0.791280   \n",
              "4  -0.818234  -0.753571 -0.946513          -1.324341  -0.846481   \n",
              "5  -0.813047  -0.769209 -0.821996          -1.262766  -0.924016   \n",
              "\n",
              "        ...        highTemp.avg2  highTemp.avg3  lowTemp.avg1  lowTemp.avg2  \\\n",
              "1       ...            40.900000      42.950000     31.705556     31.794444   \n",
              "2       ...            42.950000      44.283333     31.794444     30.416667   \n",
              "3       ...            44.283333      45.627778     30.416667     31.811111   \n",
              "4       ...            45.627778      46.122222     31.811111     36.027778   \n",
              "5       ...            46.122222      42.116667     36.027778     32.350000   \n",
              "\n",
              "   lowTemp.avg3  rain.avg1  rain.avg2  rain.avg3  highTemp.actual  \\\n",
              "1     30.416667   1.111111   1.555556   1.500000        50.355556   \n",
              "2     31.811111   1.555556   1.500000   1.388889        42.961111   \n",
              "3     36.027778   1.500000   1.388889   1.444444        40.900000   \n",
              "4     32.350000   1.388889   1.444444   1.388889        42.950000   \n",
              "5     26.961111   1.444444   1.388889   1.111111        44.283333   \n",
              "\n",
              "   lowTemp.actual  \n",
              "1       34.688889  \n",
              "2       31.705556  \n",
              "3       31.794444  \n",
              "4       30.416667  \n",
              "5       31.811111  \n",
              "\n",
              "[5 rows x 116 columns]"
            ]
          },
          "metadata": {
            "tags": []
          },
          "execution_count": 4
        }
      ]
    },
    {
      "metadata": {
        "id": "jBdMBeuxgq5K",
        "colab_type": "code",
        "outputId": "5d8a628a-1699-473f-ff63-b042a43108e6",
        "colab": {
          "base_uri": "https://localhost:8080/",
          "height": 350
        }
      },
      "cell_type": "code",
      "source": [
        " df.describe()"
      ],
      "execution_count": 5,
      "outputs": [
        {
          "output_type": "execute_result",
          "data": {
            "text/html": [
              "<div>\n",
              "<style scoped>\n",
              "    .dataframe tbody tr th:only-of-type {\n",
              "        vertical-align: middle;\n",
              "    }\n",
              "\n",
              "    .dataframe tbody tr th {\n",
              "        vertical-align: top;\n",
              "    }\n",
              "\n",
              "    .dataframe thead th {\n",
              "        text-align: right;\n",
              "    }\n",
              "</style>\n",
              "<table border=\"1\" class=\"dataframe\">\n",
              "  <thead>\n",
              "    <tr style=\"text-align: right;\">\n",
              "      <th></th>\n",
              "      <th>highTemp</th>\n",
              "      <th>HIGHTEMP30YR5PEau2</th>\n",
              "      <th>HT3Y3Pau2</th>\n",
              "      <th>HIGHTEMP30YR50Pau2</th>\n",
              "      <th>HT3Y7Pau2</th>\n",
              "      <th>HT3Y9Pau2</th>\n",
              "      <th>lowTemp</th>\n",
              "      <th>LOWTEMP30YR5PEau2</th>\n",
              "      <th>LT3Y3Pau2</th>\n",
              "      <th>LOWTEMP30YR50Pau2</th>\n",
              "      <th>...</th>\n",
              "      <th>highTemp.avg2</th>\n",
              "      <th>highTemp.avg3</th>\n",
              "      <th>lowTemp.avg1</th>\n",
              "      <th>lowTemp.avg2</th>\n",
              "      <th>lowTemp.avg3</th>\n",
              "      <th>rain.avg1</th>\n",
              "      <th>rain.avg2</th>\n",
              "      <th>rain.avg3</th>\n",
              "      <th>highTemp.actual</th>\n",
              "      <th>lowTemp.actual</th>\n",
              "    </tr>\n",
              "  </thead>\n",
              "  <tbody>\n",
              "    <tr>\n",
              "      <th>count</th>\n",
              "      <td>3652.000000</td>\n",
              "      <td>3652.000000</td>\n",
              "      <td>3652.000000</td>\n",
              "      <td>3652.000000</td>\n",
              "      <td>3652.000000</td>\n",
              "      <td>3652.000000</td>\n",
              "      <td>3652.000000</td>\n",
              "      <td>3652.000000</td>\n",
              "      <td>3652.000000</td>\n",
              "      <td>3652.000000</td>\n",
              "      <td>...</td>\n",
              "      <td>3648.000000</td>\n",
              "      <td>3646.000000</td>\n",
              "      <td>3650.000000</td>\n",
              "      <td>3648.000000</td>\n",
              "      <td>3646.000000</td>\n",
              "      <td>3650.000000</td>\n",
              "      <td>3648.000000</td>\n",
              "      <td>3646.000000</td>\n",
              "      <td>3652.000000</td>\n",
              "      <td>3652.000000</td>\n",
              "    </tr>\n",
              "    <tr>\n",
              "      <th>mean</th>\n",
              "      <td>0.000649</td>\n",
              "      <td>0.000620</td>\n",
              "      <td>0.000619</td>\n",
              "      <td>0.000595</td>\n",
              "      <td>0.000549</td>\n",
              "      <td>0.000393</td>\n",
              "      <td>0.000612</td>\n",
              "      <td>0.000565</td>\n",
              "      <td>0.000575</td>\n",
              "      <td>0.000551</td>\n",
              "      <td>...</td>\n",
              "      <td>60.646240</td>\n",
              "      <td>60.649909</td>\n",
              "      <td>41.023108</td>\n",
              "      <td>41.023301</td>\n",
              "      <td>41.023770</td>\n",
              "      <td>1.167242</td>\n",
              "      <td>1.167271</td>\n",
              "      <td>1.167211</td>\n",
              "      <td>60.643748</td>\n",
              "      <td>41.023413</td>\n",
              "    </tr>\n",
              "    <tr>\n",
              "      <th>std</th>\n",
              "      <td>0.879104</td>\n",
              "      <td>0.677872</td>\n",
              "      <td>0.630804</td>\n",
              "      <td>0.616102</td>\n",
              "      <td>0.602090</td>\n",
              "      <td>0.534560</td>\n",
              "      <td>0.799403</td>\n",
              "      <td>0.676598</td>\n",
              "      <td>0.600492</td>\n",
              "      <td>0.558307</td>\n",
              "      <td>...</td>\n",
              "      <td>13.189235</td>\n",
              "      <td>13.188376</td>\n",
              "      <td>8.953412</td>\n",
              "      <td>8.953402</td>\n",
              "      <td>8.953687</td>\n",
              "      <td>0.194935</td>\n",
              "      <td>0.194984</td>\n",
              "      <td>0.194912</td>\n",
              "      <td>13.188217</td>\n",
              "      <td>8.952421</td>\n",
              "    </tr>\n",
              "    <tr>\n",
              "      <th>min</th>\n",
              "      <td>-2.516397</td>\n",
              "      <td>-1.377241</td>\n",
              "      <td>-0.996102</td>\n",
              "      <td>-0.953545</td>\n",
              "      <td>-0.922692</td>\n",
              "      <td>-0.833187</td>\n",
              "      <td>-2.774075</td>\n",
              "      <td>-1.488541</td>\n",
              "      <td>-0.924016</td>\n",
              "      <td>-0.859134</td>\n",
              "      <td>...</td>\n",
              "      <td>22.883333</td>\n",
              "      <td>22.883333</td>\n",
              "      <td>9.950000</td>\n",
              "      <td>9.950000</td>\n",
              "      <td>9.950000</td>\n",
              "      <td>1.000000</td>\n",
              "      <td>1.000000</td>\n",
              "      <td>1.000000</td>\n",
              "      <td>22.883333</td>\n",
              "      <td>9.950000</td>\n",
              "    </tr>\n",
              "    <tr>\n",
              "      <th>25%</th>\n",
              "      <td>-0.737082</td>\n",
              "      <td>-0.576822</td>\n",
              "      <td>-0.562251</td>\n",
              "      <td>-0.573804</td>\n",
              "      <td>-0.584219</td>\n",
              "      <td>-0.553803</td>\n",
              "      <td>-0.595411</td>\n",
              "      <td>-0.597282</td>\n",
              "      <td>-0.553197</td>\n",
              "      <td>-0.513400</td>\n",
              "      <td>...</td>\n",
              "      <td>49.576389</td>\n",
              "      <td>49.577778</td>\n",
              "      <td>34.345833</td>\n",
              "      <td>34.348611</td>\n",
              "      <td>34.352778</td>\n",
              "      <td>1.000000</td>\n",
              "      <td>1.000000</td>\n",
              "      <td>1.000000</td>\n",
              "      <td>49.576389</td>\n",
              "      <td>34.348611</td>\n",
              "    </tr>\n",
              "    <tr>\n",
              "      <th>50%</th>\n",
              "      <td>-0.081887</td>\n",
              "      <td>0.030581</td>\n",
              "      <td>-0.026290</td>\n",
              "      <td>-0.039928</td>\n",
              "      <td>-0.028208</td>\n",
              "      <td>0.020024</td>\n",
              "      <td>-0.035460</td>\n",
              "      <td>-0.042111</td>\n",
              "      <td>-0.109479</td>\n",
              "      <td>-0.107646</td>\n",
              "      <td>...</td>\n",
              "      <td>59.405556</td>\n",
              "      <td>59.405556</td>\n",
              "      <td>40.619444</td>\n",
              "      <td>40.619444</td>\n",
              "      <td>40.619444</td>\n",
              "      <td>1.111111</td>\n",
              "      <td>1.111111</td>\n",
              "      <td>1.111111</td>\n",
              "      <td>59.405556</td>\n",
              "      <td>40.619444</td>\n",
              "    </tr>\n",
              "    <tr>\n",
              "      <th>75%</th>\n",
              "      <td>0.734770</td>\n",
              "      <td>0.564671</td>\n",
              "      <td>0.526795</td>\n",
              "      <td>0.525809</td>\n",
              "      <td>0.551890</td>\n",
              "      <td>0.511876</td>\n",
              "      <td>0.669223</td>\n",
              "      <td>0.623595</td>\n",
              "      <td>0.552139</td>\n",
              "      <td>0.515268</td>\n",
              "      <td>...</td>\n",
              "      <td>71.661111</td>\n",
              "      <td>71.661111</td>\n",
              "      <td>48.511111</td>\n",
              "      <td>48.511111</td>\n",
              "      <td>48.509722</td>\n",
              "      <td>1.277778</td>\n",
              "      <td>1.277778</td>\n",
              "      <td>1.277778</td>\n",
              "      <td>71.656944</td>\n",
              "      <td>48.511111</td>\n",
              "    </tr>\n",
              "    <tr>\n",
              "      <th>max</th>\n",
              "      <td>2.292631</td>\n",
              "      <td>1.181120</td>\n",
              "      <td>1.127046</td>\n",
              "      <td>1.063129</td>\n",
              "      <td>1.027980</td>\n",
              "      <td>0.905358</td>\n",
              "      <td>2.095952</td>\n",
              "      <td>1.145626</td>\n",
              "      <td>1.072506</td>\n",
              "      <td>0.994856</td>\n",
              "      <td>...</td>\n",
              "      <td>95.027778</td>\n",
              "      <td>95.027778</td>\n",
              "      <td>64.488889</td>\n",
              "      <td>64.488889</td>\n",
              "      <td>64.488889</td>\n",
              "      <td>1.888889</td>\n",
              "      <td>1.888889</td>\n",
              "      <td>1.888889</td>\n",
              "      <td>95.027778</td>\n",
              "      <td>64.488889</td>\n",
              "    </tr>\n",
              "  </tbody>\n",
              "</table>\n",
              "<p>8 rows × 113 columns</p>\n",
              "</div>"
            ],
            "text/plain": [
              "          highTemp  HIGHTEMP30YR5PEau2    HT3Y3Pau2  HIGHTEMP30YR50Pau2  \\\n",
              "count  3652.000000         3652.000000  3652.000000         3652.000000   \n",
              "mean      0.000649            0.000620     0.000619            0.000595   \n",
              "std       0.879104            0.677872     0.630804            0.616102   \n",
              "min      -2.516397           -1.377241    -0.996102           -0.953545   \n",
              "25%      -0.737082           -0.576822    -0.562251           -0.573804   \n",
              "50%      -0.081887            0.030581    -0.026290           -0.039928   \n",
              "75%       0.734770            0.564671     0.526795            0.525809   \n",
              "max       2.292631            1.181120     1.127046            1.063129   \n",
              "\n",
              "         HT3Y7Pau2    HT3Y9Pau2      lowTemp  LOWTEMP30YR5PEau2    LT3Y3Pau2  \\\n",
              "count  3652.000000  3652.000000  3652.000000        3652.000000  3652.000000   \n",
              "mean      0.000549     0.000393     0.000612           0.000565     0.000575   \n",
              "std       0.602090     0.534560     0.799403           0.676598     0.600492   \n",
              "min      -0.922692    -0.833187    -2.774075          -1.488541    -0.924016   \n",
              "25%      -0.584219    -0.553803    -0.595411          -0.597282    -0.553197   \n",
              "50%      -0.028208     0.020024    -0.035460          -0.042111    -0.109479   \n",
              "75%       0.551890     0.511876     0.669223           0.623595     0.552139   \n",
              "max       1.027980     0.905358     2.095952           1.145626     1.072506   \n",
              "\n",
              "       LOWTEMP30YR50Pau2       ...        highTemp.avg2  highTemp.avg3  \\\n",
              "count        3652.000000       ...          3648.000000    3646.000000   \n",
              "mean            0.000551       ...            60.646240      60.649909   \n",
              "std             0.558307       ...            13.189235      13.188376   \n",
              "min            -0.859134       ...            22.883333      22.883333   \n",
              "25%            -0.513400       ...            49.576389      49.577778   \n",
              "50%            -0.107646       ...            59.405556      59.405556   \n",
              "75%             0.515268       ...            71.661111      71.661111   \n",
              "max             0.994856       ...            95.027778      95.027778   \n",
              "\n",
              "       lowTemp.avg1  lowTemp.avg2  lowTemp.avg3    rain.avg1    rain.avg2  \\\n",
              "count   3650.000000   3648.000000   3646.000000  3650.000000  3648.000000   \n",
              "mean      41.023108     41.023301     41.023770     1.167242     1.167271   \n",
              "std        8.953412      8.953402      8.953687     0.194935     0.194984   \n",
              "min        9.950000      9.950000      9.950000     1.000000     1.000000   \n",
              "25%       34.345833     34.348611     34.352778     1.000000     1.000000   \n",
              "50%       40.619444     40.619444     40.619444     1.111111     1.111111   \n",
              "75%       48.511111     48.511111     48.509722     1.277778     1.277778   \n",
              "max       64.488889     64.488889     64.488889     1.888889     1.888889   \n",
              "\n",
              "         rain.avg3  highTemp.actual  lowTemp.actual  \n",
              "count  3646.000000      3652.000000     3652.000000  \n",
              "mean      1.167211        60.643748       41.023413  \n",
              "std       0.194912        13.188217        8.952421  \n",
              "min       1.000000        22.883333        9.950000  \n",
              "25%       1.000000        49.576389       34.348611  \n",
              "50%       1.111111        59.405556       40.619444  \n",
              "75%       1.277778        71.656944       48.511111  \n",
              "max       1.888889        95.027778       64.488889  \n",
              "\n",
              "[8 rows x 113 columns]"
            ]
          },
          "metadata": {
            "tags": []
          },
          "execution_count": 5
        }
      ]
    },
    {
      "metadata": {
        "id": "h_2DeOLr1RTQ",
        "colab_type": "code",
        "colab": {}
      },
      "cell_type": "code",
      "source": [
        "keeps = []\n",
        "with open(\"/content/drive/My Drive/WeatherData/lasso-keeps2.txt\") as file:\n",
        "  file = file.read()\n",
        "  keeps.append(file)"
      ],
      "execution_count": 0,
      "outputs": []
    },
    {
      "metadata": {
        "id": "rHEg8KtsggKX",
        "colab_type": "code",
        "outputId": "332eebff-5608-438a-955c-0496114978cf",
        "colab": {
          "base_uri": "https://localhost:8080/",
          "height": 256
        }
      },
      "cell_type": "code",
      "source": [
        "df.Date = pd.to_datetime(df.Date)\n",
        "df.head()"
      ],
      "execution_count": 7,
      "outputs": [
        {
          "output_type": "execute_result",
          "data": {
            "text/html": [
              "<div>\n",
              "<style scoped>\n",
              "    .dataframe tbody tr th:only-of-type {\n",
              "        vertical-align: middle;\n",
              "    }\n",
              "\n",
              "    .dataframe tbody tr th {\n",
              "        vertical-align: top;\n",
              "    }\n",
              "\n",
              "    .dataframe thead th {\n",
              "        text-align: right;\n",
              "    }\n",
              "</style>\n",
              "<table border=\"1\" class=\"dataframe\">\n",
              "  <thead>\n",
              "    <tr style=\"text-align: right;\">\n",
              "      <th></th>\n",
              "      <th>Date</th>\n",
              "      <th>highTemp</th>\n",
              "      <th>HIGHTEMP30YR5PEau2</th>\n",
              "      <th>HT3Y3Pau2</th>\n",
              "      <th>HIGHTEMP30YR50Pau2</th>\n",
              "      <th>HT3Y7Pau2</th>\n",
              "      <th>HT3Y9Pau2</th>\n",
              "      <th>lowTemp</th>\n",
              "      <th>LOWTEMP30YR5PEau2</th>\n",
              "      <th>LT3Y3Pau2</th>\n",
              "      <th>...</th>\n",
              "      <th>highTemp.avg2</th>\n",
              "      <th>highTemp.avg3</th>\n",
              "      <th>lowTemp.avg1</th>\n",
              "      <th>lowTemp.avg2</th>\n",
              "      <th>lowTemp.avg3</th>\n",
              "      <th>rain.avg1</th>\n",
              "      <th>rain.avg2</th>\n",
              "      <th>rain.avg3</th>\n",
              "      <th>highTemp.actual</th>\n",
              "      <th>lowTemp.actual</th>\n",
              "    </tr>\n",
              "  </thead>\n",
              "  <tbody>\n",
              "    <tr>\n",
              "      <th>1</th>\n",
              "      <td>1998-01-01</td>\n",
              "      <td>-0.685144</td>\n",
              "      <td>-1.040719</td>\n",
              "      <td>-0.954007</td>\n",
              "      <td>-0.865427</td>\n",
              "      <td>-0.855360</td>\n",
              "      <td>-0.731627</td>\n",
              "      <td>-0.565026</td>\n",
              "      <td>-1.039315</td>\n",
              "      <td>-0.756305</td>\n",
              "      <td>...</td>\n",
              "      <td>40.900000</td>\n",
              "      <td>42.950000</td>\n",
              "      <td>31.705556</td>\n",
              "      <td>31.794444</td>\n",
              "      <td>30.416667</td>\n",
              "      <td>1.111111</td>\n",
              "      <td>1.555556</td>\n",
              "      <td>1.500000</td>\n",
              "      <td>50.355556</td>\n",
              "      <td>34.688889</td>\n",
              "    </tr>\n",
              "    <tr>\n",
              "      <th>2</th>\n",
              "      <td>1998-01-02</td>\n",
              "      <td>-1.178046</td>\n",
              "      <td>-1.050702</td>\n",
              "      <td>-0.929372</td>\n",
              "      <td>-0.889825</td>\n",
              "      <td>-0.824512</td>\n",
              "      <td>-0.765173</td>\n",
              "      <td>-0.831422</td>\n",
              "      <td>-1.020339</td>\n",
              "      <td>-0.806871</td>\n",
              "      <td>...</td>\n",
              "      <td>42.950000</td>\n",
              "      <td>44.283333</td>\n",
              "      <td>31.794444</td>\n",
              "      <td>30.416667</td>\n",
              "      <td>31.811111</td>\n",
              "      <td>1.555556</td>\n",
              "      <td>1.500000</td>\n",
              "      <td>1.388889</td>\n",
              "      <td>42.961111</td>\n",
              "      <td>31.705556</td>\n",
              "    </tr>\n",
              "    <tr>\n",
              "      <th>3</th>\n",
              "      <td>1998-01-03</td>\n",
              "      <td>-1.315436</td>\n",
              "      <td>-1.039471</td>\n",
              "      <td>-0.934179</td>\n",
              "      <td>-0.845909</td>\n",
              "      <td>-0.813320</td>\n",
              "      <td>-0.722798</td>\n",
              "      <td>-0.823485</td>\n",
              "      <td>-1.117155</td>\n",
              "      <td>-0.791280</td>\n",
              "      <td>...</td>\n",
              "      <td>44.283333</td>\n",
              "      <td>45.627778</td>\n",
              "      <td>30.416667</td>\n",
              "      <td>31.811111</td>\n",
              "      <td>36.027778</td>\n",
              "      <td>1.500000</td>\n",
              "      <td>1.388889</td>\n",
              "      <td>1.444444</td>\n",
              "      <td>40.900000</td>\n",
              "      <td>31.794444</td>\n",
              "    </tr>\n",
              "    <tr>\n",
              "      <th>4</th>\n",
              "      <td>1998-01-04</td>\n",
              "      <td>-1.178786</td>\n",
              "      <td>-1.198887</td>\n",
              "      <td>-0.938986</td>\n",
              "      <td>-0.868010</td>\n",
              "      <td>-0.818234</td>\n",
              "      <td>-0.753571</td>\n",
              "      <td>-0.946513</td>\n",
              "      <td>-1.324341</td>\n",
              "      <td>-0.846481</td>\n",
              "      <td>...</td>\n",
              "      <td>45.627778</td>\n",
              "      <td>46.122222</td>\n",
              "      <td>31.811111</td>\n",
              "      <td>36.027778</td>\n",
              "      <td>32.350000</td>\n",
              "      <td>1.388889</td>\n",
              "      <td>1.444444</td>\n",
              "      <td>1.388889</td>\n",
              "      <td>42.950000</td>\n",
              "      <td>30.416667</td>\n",
              "    </tr>\n",
              "    <tr>\n",
              "      <th>5</th>\n",
              "      <td>1998-01-05</td>\n",
              "      <td>-1.089909</td>\n",
              "      <td>-1.217917</td>\n",
              "      <td>-0.936582</td>\n",
              "      <td>-0.853946</td>\n",
              "      <td>-0.813047</td>\n",
              "      <td>-0.769209</td>\n",
              "      <td>-0.821996</td>\n",
              "      <td>-1.262766</td>\n",
              "      <td>-0.924016</td>\n",
              "      <td>...</td>\n",
              "      <td>46.122222</td>\n",
              "      <td>42.116667</td>\n",
              "      <td>36.027778</td>\n",
              "      <td>32.350000</td>\n",
              "      <td>26.961111</td>\n",
              "      <td>1.444444</td>\n",
              "      <td>1.388889</td>\n",
              "      <td>1.111111</td>\n",
              "      <td>44.283333</td>\n",
              "      <td>31.811111</td>\n",
              "    </tr>\n",
              "  </tbody>\n",
              "</table>\n",
              "<p>5 rows × 116 columns</p>\n",
              "</div>"
            ],
            "text/plain": [
              "        Date  highTemp  HIGHTEMP30YR5PEau2  HT3Y3Pau2  HIGHTEMP30YR50Pau2  \\\n",
              "1 1998-01-01 -0.685144           -1.040719  -0.954007           -0.865427   \n",
              "2 1998-01-02 -1.178046           -1.050702  -0.929372           -0.889825   \n",
              "3 1998-01-03 -1.315436           -1.039471  -0.934179           -0.845909   \n",
              "4 1998-01-04 -1.178786           -1.198887  -0.938986           -0.868010   \n",
              "5 1998-01-05 -1.089909           -1.217917  -0.936582           -0.853946   \n",
              "\n",
              "   HT3Y7Pau2  HT3Y9Pau2   lowTemp  LOWTEMP30YR5PEau2  LT3Y3Pau2  \\\n",
              "1  -0.855360  -0.731627 -0.565026          -1.039315  -0.756305   \n",
              "2  -0.824512  -0.765173 -0.831422          -1.020339  -0.806871   \n",
              "3  -0.813320  -0.722798 -0.823485          -1.117155  -0.791280   \n",
              "4  -0.818234  -0.753571 -0.946513          -1.324341  -0.846481   \n",
              "5  -0.813047  -0.769209 -0.821996          -1.262766  -0.924016   \n",
              "\n",
              "        ...        highTemp.avg2  highTemp.avg3  lowTemp.avg1  lowTemp.avg2  \\\n",
              "1       ...            40.900000      42.950000     31.705556     31.794444   \n",
              "2       ...            42.950000      44.283333     31.794444     30.416667   \n",
              "3       ...            44.283333      45.627778     30.416667     31.811111   \n",
              "4       ...            45.627778      46.122222     31.811111     36.027778   \n",
              "5       ...            46.122222      42.116667     36.027778     32.350000   \n",
              "\n",
              "   lowTemp.avg3  rain.avg1  rain.avg2  rain.avg3  highTemp.actual  \\\n",
              "1     30.416667   1.111111   1.555556   1.500000        50.355556   \n",
              "2     31.811111   1.555556   1.500000   1.388889        42.961111   \n",
              "3     36.027778   1.500000   1.388889   1.444444        40.900000   \n",
              "4     32.350000   1.388889   1.444444   1.388889        42.950000   \n",
              "5     26.961111   1.444444   1.388889   1.111111        44.283333   \n",
              "\n",
              "   lowTemp.actual  \n",
              "1       34.688889  \n",
              "2       31.705556  \n",
              "3       31.794444  \n",
              "4       30.416667  \n",
              "5       31.811111  \n",
              "\n",
              "[5 rows x 116 columns]"
            ]
          },
          "metadata": {
            "tags": []
          },
          "execution_count": 7
        }
      ]
    },
    {
      "metadata": {
        "id": "L0t1t6jBJQKK",
        "colab_type": "code",
        "outputId": "a3daf1f5-0893-46ab-e2aa-432b2ee20ed2",
        "colab": {
          "base_uri": "https://localhost:8080/",
          "height": 127
        }
      },
      "cell_type": "code",
      "source": [
        "df['averageTemp'] = (df['highTemp.actual'] + df['lowTemp.actual'])/2\n",
        "df.averageTemp.head()"
      ],
      "execution_count": 8,
      "outputs": [
        {
          "output_type": "execute_result",
          "data": {
            "text/plain": [
              "1    42.522222\n",
              "2    37.333333\n",
              "3    36.347222\n",
              "4    36.683333\n",
              "5    38.047222\n",
              "Name: averageTemp, dtype: float64"
            ]
          },
          "metadata": {
            "tags": []
          },
          "execution_count": 8
        }
      ]
    },
    {
      "metadata": {
        "id": "BfAZZwFPEf0E",
        "colab_type": "code",
        "colab": {}
      },
      "cell_type": "code",
      "source": [
        "df['month'] = pd.DatetimeIndex(df['Date']).month\n",
        "df['year'] = pd.DatetimeIndex(df['Date']).year\n",
        "df['day'] = pd.DatetimeIndex(df['Date']).day"
      ],
      "execution_count": 0,
      "outputs": []
    },
    {
      "metadata": {
        "id": "5GYufmJIEf3a",
        "colab_type": "code",
        "outputId": "6c8ec12a-6f52-40d9-eecf-ebf5e13c75cb",
        "colab": {
          "base_uri": "https://localhost:8080/",
          "height": 256
        }
      },
      "cell_type": "code",
      "source": [
        "df.head()"
      ],
      "execution_count": 10,
      "outputs": [
        {
          "output_type": "execute_result",
          "data": {
            "text/html": [
              "<div>\n",
              "<style scoped>\n",
              "    .dataframe tbody tr th:only-of-type {\n",
              "        vertical-align: middle;\n",
              "    }\n",
              "\n",
              "    .dataframe tbody tr th {\n",
              "        vertical-align: top;\n",
              "    }\n",
              "\n",
              "    .dataframe thead th {\n",
              "        text-align: right;\n",
              "    }\n",
              "</style>\n",
              "<table border=\"1\" class=\"dataframe\">\n",
              "  <thead>\n",
              "    <tr style=\"text-align: right;\">\n",
              "      <th></th>\n",
              "      <th>Date</th>\n",
              "      <th>highTemp</th>\n",
              "      <th>HIGHTEMP30YR5PEau2</th>\n",
              "      <th>HT3Y3Pau2</th>\n",
              "      <th>HIGHTEMP30YR50Pau2</th>\n",
              "      <th>HT3Y7Pau2</th>\n",
              "      <th>HT3Y9Pau2</th>\n",
              "      <th>lowTemp</th>\n",
              "      <th>LOWTEMP30YR5PEau2</th>\n",
              "      <th>LT3Y3Pau2</th>\n",
              "      <th>...</th>\n",
              "      <th>lowTemp.avg3</th>\n",
              "      <th>rain.avg1</th>\n",
              "      <th>rain.avg2</th>\n",
              "      <th>rain.avg3</th>\n",
              "      <th>highTemp.actual</th>\n",
              "      <th>lowTemp.actual</th>\n",
              "      <th>averageTemp</th>\n",
              "      <th>month</th>\n",
              "      <th>year</th>\n",
              "      <th>day</th>\n",
              "    </tr>\n",
              "  </thead>\n",
              "  <tbody>\n",
              "    <tr>\n",
              "      <th>1</th>\n",
              "      <td>1998-01-01</td>\n",
              "      <td>-0.685144</td>\n",
              "      <td>-1.040719</td>\n",
              "      <td>-0.954007</td>\n",
              "      <td>-0.865427</td>\n",
              "      <td>-0.855360</td>\n",
              "      <td>-0.731627</td>\n",
              "      <td>-0.565026</td>\n",
              "      <td>-1.039315</td>\n",
              "      <td>-0.756305</td>\n",
              "      <td>...</td>\n",
              "      <td>30.416667</td>\n",
              "      <td>1.111111</td>\n",
              "      <td>1.555556</td>\n",
              "      <td>1.500000</td>\n",
              "      <td>50.355556</td>\n",
              "      <td>34.688889</td>\n",
              "      <td>42.522222</td>\n",
              "      <td>1</td>\n",
              "      <td>1998</td>\n",
              "      <td>1</td>\n",
              "    </tr>\n",
              "    <tr>\n",
              "      <th>2</th>\n",
              "      <td>1998-01-02</td>\n",
              "      <td>-1.178046</td>\n",
              "      <td>-1.050702</td>\n",
              "      <td>-0.929372</td>\n",
              "      <td>-0.889825</td>\n",
              "      <td>-0.824512</td>\n",
              "      <td>-0.765173</td>\n",
              "      <td>-0.831422</td>\n",
              "      <td>-1.020339</td>\n",
              "      <td>-0.806871</td>\n",
              "      <td>...</td>\n",
              "      <td>31.811111</td>\n",
              "      <td>1.555556</td>\n",
              "      <td>1.500000</td>\n",
              "      <td>1.388889</td>\n",
              "      <td>42.961111</td>\n",
              "      <td>31.705556</td>\n",
              "      <td>37.333333</td>\n",
              "      <td>1</td>\n",
              "      <td>1998</td>\n",
              "      <td>2</td>\n",
              "    </tr>\n",
              "    <tr>\n",
              "      <th>3</th>\n",
              "      <td>1998-01-03</td>\n",
              "      <td>-1.315436</td>\n",
              "      <td>-1.039471</td>\n",
              "      <td>-0.934179</td>\n",
              "      <td>-0.845909</td>\n",
              "      <td>-0.813320</td>\n",
              "      <td>-0.722798</td>\n",
              "      <td>-0.823485</td>\n",
              "      <td>-1.117155</td>\n",
              "      <td>-0.791280</td>\n",
              "      <td>...</td>\n",
              "      <td>36.027778</td>\n",
              "      <td>1.500000</td>\n",
              "      <td>1.388889</td>\n",
              "      <td>1.444444</td>\n",
              "      <td>40.900000</td>\n",
              "      <td>31.794444</td>\n",
              "      <td>36.347222</td>\n",
              "      <td>1</td>\n",
              "      <td>1998</td>\n",
              "      <td>3</td>\n",
              "    </tr>\n",
              "    <tr>\n",
              "      <th>4</th>\n",
              "      <td>1998-01-04</td>\n",
              "      <td>-1.178786</td>\n",
              "      <td>-1.198887</td>\n",
              "      <td>-0.938986</td>\n",
              "      <td>-0.868010</td>\n",
              "      <td>-0.818234</td>\n",
              "      <td>-0.753571</td>\n",
              "      <td>-0.946513</td>\n",
              "      <td>-1.324341</td>\n",
              "      <td>-0.846481</td>\n",
              "      <td>...</td>\n",
              "      <td>32.350000</td>\n",
              "      <td>1.388889</td>\n",
              "      <td>1.444444</td>\n",
              "      <td>1.388889</td>\n",
              "      <td>42.950000</td>\n",
              "      <td>30.416667</td>\n",
              "      <td>36.683333</td>\n",
              "      <td>1</td>\n",
              "      <td>1998</td>\n",
              "      <td>4</td>\n",
              "    </tr>\n",
              "    <tr>\n",
              "      <th>5</th>\n",
              "      <td>1998-01-05</td>\n",
              "      <td>-1.089909</td>\n",
              "      <td>-1.217917</td>\n",
              "      <td>-0.936582</td>\n",
              "      <td>-0.853946</td>\n",
              "      <td>-0.813047</td>\n",
              "      <td>-0.769209</td>\n",
              "      <td>-0.821996</td>\n",
              "      <td>-1.262766</td>\n",
              "      <td>-0.924016</td>\n",
              "      <td>...</td>\n",
              "      <td>26.961111</td>\n",
              "      <td>1.444444</td>\n",
              "      <td>1.388889</td>\n",
              "      <td>1.111111</td>\n",
              "      <td>44.283333</td>\n",
              "      <td>31.811111</td>\n",
              "      <td>38.047222</td>\n",
              "      <td>1</td>\n",
              "      <td>1998</td>\n",
              "      <td>5</td>\n",
              "    </tr>\n",
              "  </tbody>\n",
              "</table>\n",
              "<p>5 rows × 120 columns</p>\n",
              "</div>"
            ],
            "text/plain": [
              "        Date  highTemp  HIGHTEMP30YR5PEau2  HT3Y3Pau2  HIGHTEMP30YR50Pau2  \\\n",
              "1 1998-01-01 -0.685144           -1.040719  -0.954007           -0.865427   \n",
              "2 1998-01-02 -1.178046           -1.050702  -0.929372           -0.889825   \n",
              "3 1998-01-03 -1.315436           -1.039471  -0.934179           -0.845909   \n",
              "4 1998-01-04 -1.178786           -1.198887  -0.938986           -0.868010   \n",
              "5 1998-01-05 -1.089909           -1.217917  -0.936582           -0.853946   \n",
              "\n",
              "   HT3Y7Pau2  HT3Y9Pau2   lowTemp  LOWTEMP30YR5PEau2  LT3Y3Pau2 ...   \\\n",
              "1  -0.855360  -0.731627 -0.565026          -1.039315  -0.756305 ...    \n",
              "2  -0.824512  -0.765173 -0.831422          -1.020339  -0.806871 ...    \n",
              "3  -0.813320  -0.722798 -0.823485          -1.117155  -0.791280 ...    \n",
              "4  -0.818234  -0.753571 -0.946513          -1.324341  -0.846481 ...    \n",
              "5  -0.813047  -0.769209 -0.821996          -1.262766  -0.924016 ...    \n",
              "\n",
              "   lowTemp.avg3  rain.avg1  rain.avg2  rain.avg3  highTemp.actual  \\\n",
              "1     30.416667   1.111111   1.555556   1.500000        50.355556   \n",
              "2     31.811111   1.555556   1.500000   1.388889        42.961111   \n",
              "3     36.027778   1.500000   1.388889   1.444444        40.900000   \n",
              "4     32.350000   1.388889   1.444444   1.388889        42.950000   \n",
              "5     26.961111   1.444444   1.388889   1.111111        44.283333   \n",
              "\n",
              "   lowTemp.actual  averageTemp  month  year  day  \n",
              "1       34.688889    42.522222      1  1998    1  \n",
              "2       31.705556    37.333333      1  1998    2  \n",
              "3       31.794444    36.347222      1  1998    3  \n",
              "4       30.416667    36.683333      1  1998    4  \n",
              "5       31.811111    38.047222      1  1998    5  \n",
              "\n",
              "[5 rows x 120 columns]"
            ]
          },
          "metadata": {
            "tags": []
          },
          "execution_count": 10
        }
      ]
    },
    {
      "metadata": {
        "id": "b5WwYCEsEgAu",
        "colab_type": "code",
        "outputId": "0b2cee80-4169-477e-fb9c-2937ce56c439",
        "colab": {
          "base_uri": "https://localhost:8080/",
          "height": 109
        }
      },
      "cell_type": "code",
      "source": [
        "df.dtypes.value_counts()"
      ],
      "execution_count": 11,
      "outputs": [
        {
          "output_type": "execute_result",
          "data": {
            "text/plain": [
              "float64           114\n",
              "int64               3\n",
              "object              2\n",
              "datetime64[ns]      1\n",
              "dtype: int64"
            ]
          },
          "metadata": {
            "tags": []
          },
          "execution_count": 11
        }
      ]
    },
    {
      "metadata": {
        "id": "pVnUTxOeCHy9",
        "colab_type": "code",
        "colab": {}
      },
      "cell_type": "code",
      "source": [
        "df = df.drop(['Date'], axis=1)\n"
      ],
      "execution_count": 0,
      "outputs": []
    },
    {
      "metadata": {
        "id": "__LYbEeZC-PB",
        "colab_type": "code",
        "colab": {}
      },
      "cell_type": "code",
      "source": [
        "df.drop(df.select_dtypes(['object']), inplace=True, axis=1)\n",
        " "
      ],
      "execution_count": 0,
      "outputs": []
    },
    {
      "metadata": {
        "id": "tC1wNTvX_8MC",
        "colab_type": "code",
        "colab": {}
      },
      "cell_type": "code",
      "source": [
        "df_train = df[df.year < 2004]\n",
        "df_val = df[(df.year >= 2004) &  (df.year < 2005)]\n",
        "df_test = df[df.year >= 2005]"
      ],
      "execution_count": 0,
      "outputs": []
    },
    {
      "metadata": {
        "id": "6wD-uuHq_8V7",
        "colab_type": "code",
        "colab": {}
      },
      "cell_type": "code",
      "source": [
        "# Split in to training and validation sets\n",
        "X_train, X_validation, y_train, y_validation = df_train.filter(regex='^(?!.*(.avg\\d))'), df_val.filter(regex='^(?!.*(.avg\\d))'), df_train.filter(regex='.avg\\d'), df_val.filter(regex='.avg\\d')"
      ],
      "execution_count": 0,
      "outputs": []
    },
    {
      "metadata": {
        "id": "MwJ_mroA2PDc",
        "colab_type": "code",
        "colab": {}
      },
      "cell_type": "code",
      "source": [
        "feature_list = list(df.filter(regex='^(?!.*(.avg\\d))').columns)\n"
      ],
      "execution_count": 0,
      "outputs": []
    },
    {
      "metadata": {
        "id": "mHzrxElYUFyx",
        "colab_type": "code",
        "colab": {}
      },
      "cell_type": "code",
      "source": [
        "X_test, y_test = df_test.filter(regex='^(?!.*(.avg\\d))'),df_test.filter(regex='.avg\\d')"
      ],
      "execution_count": 0,
      "outputs": []
    },
    {
      "metadata": {
        "id": "M8IgMfl8gBfy",
        "colab_type": "code",
        "colab": {}
      },
      "cell_type": "code",
      "source": [
        "X_test, y_test = X_test[:-3].tail, y_test[:-3]"
      ],
      "execution_count": 0,
      "outputs": []
    },
    {
      "metadata": {
        "id": "nwX07UxLNkFt",
        "colab_type": "code",
        "colab": {}
      },
      "cell_type": "code",
      "source": [
        "y_train_HT1 = y_train.iloc[:,[0]]\n",
        "y_train_HT2 = y_train.iloc[:,[1]]\n",
        "y_train_HT3 = y_train.iloc[:,[2]]\n",
        "\n",
        "y_validation_HT1 = y_validation.iloc[:,[0]]\n",
        "y_validation_HT2 = y_validation.iloc[:,[1]]\n",
        "y_validation_HT3 = y_validation.iloc[:,[2]]\n",
        "\n",
        "\n",
        "\n",
        "y_train_LT1 = y_train.iloc[:,[3]]\n",
        "y_train_LT2 = y_train.iloc[:,[4]]\n",
        "y_train_LT3 = y_train.iloc[:,[5]]\n",
        "\n",
        "y_validation_LT1 = y_validation.iloc[:,[3]]\n",
        "y_validation_LT2 = y_validation.iloc[:,[4]]\n",
        "y_validation_LT3 = y_validation.iloc[:,[5]]\n",
        "\n",
        "\n",
        "y_train_R1 = y_train.iloc[:,[6]]\n",
        "y_train_R2 = y_train.iloc[:,[7]]\n",
        "y_train_R3 = y_train.iloc[:,[8]]\n",
        "\n",
        "y_validation_R1 = y_validation.iloc[:,[6]]\n",
        "y_validation_R2 = y_validation.iloc[:,[7]]\n",
        "y_validation_R3 = y_validation.iloc[:,[8]]\n",
        "\n",
        "\n",
        "y_test_HT1 = y_test.iloc[:, [0]] \n",
        "y_test_HT2 = y_test.iloc[:, [1]] \n",
        "y_test_HT3 = y_test.iloc[:, [2]] "
      ],
      "execution_count": 0,
      "outputs": []
    },
    {
      "metadata": {
        "id": "4tjgG_ntNHYA",
        "colab_type": "code",
        "colab": {}
      },
      "cell_type": "code",
      "source": [
        "X_train, X_validation = np.array(X_train), np.array(X_validation)"
      ],
      "execution_count": 0,
      "outputs": []
    },
    {
      "metadata": {
        "id": "E0TV5h7vRc4v",
        "colab_type": "code",
        "colab": {}
      },
      "cell_type": "code",
      "source": [
        "y_train_HT1, y_validation_HT1 = np.array(y_train_HT1), np.array(y_validation_HT1)\n",
        "y_train_HT2, y_validation_HT2 = np.array(y_train_HT2), np.array(y_validation_HT2)\n",
        "y_train_HT3, y_validation_HT3 = np.array(y_train_HT3), np.array(y_validation_HT3)\n",
        "\n",
        "y_train_LT1, y_validation_LT1 = np.array(y_train_LT1), np.array(y_validation_LT1)\n",
        "y_train_LT2, y_validation_LT2 = np.array(y_train_LT2), np.array(y_validation_LT2)\n",
        "y_train_LT3, y_validation_LT3 = np.array(y_train_LT3), np.array(y_validation_LT3)"
      ],
      "execution_count": 0,
      "outputs": []
    },
    {
      "metadata": {
        "id": "GzTqL-_4fBg-",
        "colab_type": "code",
        "colab": {}
      },
      "cell_type": "code",
      "source": [
        "y_test_HT3  = np.array(y_test_HT3)\n",
        "X_test = np.array(X_test)"
      ],
      "execution_count": 0,
      "outputs": []
    },
    {
      "metadata": {
        "id": "A671TYKL_pfT",
        "colab_type": "code",
        "outputId": "fe708c61-1c42-4ea5-ed1e-65662f2d8295",
        "colab": {
          "base_uri": "https://localhost:8080/",
          "height": 35
        }
      },
      "cell_type": "code",
      "source": [
        "# baseline predictions are the historical averages\n",
        "\n",
        "baseline_preds = X_validation[:, feature_list.index('highTemp.actual')]\n",
        "\n",
        "baseline_errors = abs(baseline_preds - y_validation_HT3)\n",
        "\n",
        "print('Avg baseline erro: ', round(np.mean(baseline_errors), 2))"
      ],
      "execution_count": 23,
      "outputs": [
        {
          "output_type": "stream",
          "text": [
            "Avg baseline erro:  15.42\n"
          ],
          "name": "stdout"
        }
      ]
    },
    {
      "metadata": {
        "id": "7xvFyEF2_l7w",
        "colab_type": "text"
      },
      "cell_type": "markdown",
      "source": [
        "HT1 : Avg baseline erro:  15.43"
      ]
    },
    {
      "metadata": {
        "id": "6zv-w32c1xF7",
        "colab_type": "code",
        "colab": {}
      },
      "cell_type": "code",
      "source": [
        "from sklearn.ensemble import RandomForestRegressor\n",
        "from sklearn.tree import DecisionTreeRegressor"
      ],
      "execution_count": 0,
      "outputs": []
    },
    {
      "metadata": {
        "id": "SSkaN0e3fb0T",
        "colab_type": "code",
        "colab": {}
      },
      "cell_type": "code",
      "source": [
        " "
      ],
      "execution_count": 0,
      "outputs": []
    },
    {
      "metadata": {
        "id": "LUfSoCKv_pEl",
        "colab_type": "code",
        "outputId": "6dfd3661-9977-411a-8178-a522ee083758",
        "colab": {
          "base_uri": "https://localhost:8080/",
          "height": 127
        }
      },
      "cell_type": "code",
      "source": [
        "rnd_rgr = RandomForestRegressor(n_estimators=100, max_depth=20, random_state=11)\n",
        "rnd_rgr.fit(X_train, y_train_HT3.ravel())"
      ],
      "execution_count": 25,
      "outputs": [
        {
          "output_type": "execute_result",
          "data": {
            "text/plain": [
              "RandomForestRegressor(bootstrap=True, criterion='mse', max_depth=20,\n",
              "           max_features='auto', max_leaf_nodes=None,\n",
              "           min_impurity_decrease=0.0, min_impurity_split=None,\n",
              "           min_samples_leaf=1, min_samples_split=2,\n",
              "           min_weight_fraction_leaf=0.0, n_estimators=100, n_jobs=None,\n",
              "           oob_score=False, random_state=11, verbose=0, warm_start=False)"
            ]
          },
          "metadata": {
            "tags": []
          },
          "execution_count": 25
        }
      ]
    },
    {
      "metadata": {
        "id": "zISVcKrGg6uL",
        "colab_type": "code",
        "outputId": "99ca3ba6-4253-454c-e2fc-6d2c1f9fc656",
        "colab": {
          "base_uri": "https://localhost:8080/",
          "height": 872
        }
      },
      "cell_type": "code",
      "source": [
        "predictions = rnd_rgr.predict(X_test.ravel())\n",
        "errors = abs(predictions - y_test_HT3.ravel() )\n",
        "print('Mean Absolute Error:', round(np.mean(errors), 2), 'degrees.')"
      ],
      "execution_count": 29,
      "outputs": [
        {
          "output_type": "error",
          "ename": "TypeError",
          "evalue": "ignored",
          "traceback": [
            "\u001b[0;31m---------------------------------------------------------------------------\u001b[0m",
            "\u001b[0;31mTypeError\u001b[0m                                 Traceback (most recent call last)",
            "\u001b[0;32m<ipython-input-29-940427dd37e8>\u001b[0m in \u001b[0;36m<module>\u001b[0;34m()\u001b[0m\n\u001b[0;32m----> 1\u001b[0;31m \u001b[0mpredictions\u001b[0m \u001b[0;34m=\u001b[0m \u001b[0mrnd_rgr\u001b[0m\u001b[0;34m.\u001b[0m\u001b[0mpredict\u001b[0m\u001b[0;34m(\u001b[0m\u001b[0mX_test\u001b[0m\u001b[0;34m.\u001b[0m\u001b[0mravel\u001b[0m\u001b[0;34m(\u001b[0m\u001b[0;34m)\u001b[0m\u001b[0;34m)\u001b[0m\u001b[0;34m\u001b[0m\u001b[0;34m\u001b[0m\u001b[0m\n\u001b[0m\u001b[1;32m      2\u001b[0m \u001b[0merrors\u001b[0m \u001b[0;34m=\u001b[0m \u001b[0mabs\u001b[0m\u001b[0;34m(\u001b[0m\u001b[0mpredictions\u001b[0m \u001b[0;34m-\u001b[0m \u001b[0my_test_HT3\u001b[0m\u001b[0;34m.\u001b[0m\u001b[0mravel\u001b[0m\u001b[0;34m(\u001b[0m\u001b[0;34m)\u001b[0m \u001b[0;34m)\u001b[0m\u001b[0;34m\u001b[0m\u001b[0;34m\u001b[0m\u001b[0m\n\u001b[1;32m      3\u001b[0m \u001b[0mprint\u001b[0m\u001b[0;34m(\u001b[0m\u001b[0;34m'Mean Absolute Error:'\u001b[0m\u001b[0;34m,\u001b[0m \u001b[0mround\u001b[0m\u001b[0;34m(\u001b[0m\u001b[0mnp\u001b[0m\u001b[0;34m.\u001b[0m\u001b[0mmean\u001b[0m\u001b[0;34m(\u001b[0m\u001b[0merrors\u001b[0m\u001b[0;34m)\u001b[0m\u001b[0;34m,\u001b[0m \u001b[0;36m2\u001b[0m\u001b[0;34m)\u001b[0m\u001b[0;34m,\u001b[0m \u001b[0;34m'degrees.'\u001b[0m\u001b[0;34m)\u001b[0m\u001b[0;34m\u001b[0m\u001b[0;34m\u001b[0m\u001b[0m\n",
            "\u001b[0;32m/usr/local/lib/python3.6/dist-packages/sklearn/ensemble/forest.py\u001b[0m in \u001b[0;36mpredict\u001b[0;34m(self, X)\u001b[0m\n\u001b[1;32m    686\u001b[0m         \u001b[0mcheck_is_fitted\u001b[0m\u001b[0;34m(\u001b[0m\u001b[0mself\u001b[0m\u001b[0;34m,\u001b[0m \u001b[0;34m'estimators_'\u001b[0m\u001b[0;34m)\u001b[0m\u001b[0;34m\u001b[0m\u001b[0;34m\u001b[0m\u001b[0m\n\u001b[1;32m    687\u001b[0m         \u001b[0;31m# Check data\u001b[0m\u001b[0;34m\u001b[0m\u001b[0;34m\u001b[0m\u001b[0;34m\u001b[0m\u001b[0m\n\u001b[0;32m--> 688\u001b[0;31m         \u001b[0mX\u001b[0m \u001b[0;34m=\u001b[0m \u001b[0mself\u001b[0m\u001b[0;34m.\u001b[0m\u001b[0m_validate_X_predict\u001b[0m\u001b[0;34m(\u001b[0m\u001b[0mX\u001b[0m\u001b[0;34m)\u001b[0m\u001b[0;34m\u001b[0m\u001b[0;34m\u001b[0m\u001b[0m\n\u001b[0m\u001b[1;32m    689\u001b[0m \u001b[0;34m\u001b[0m\u001b[0m\n\u001b[1;32m    690\u001b[0m         \u001b[0;31m# Assign chunk of trees to jobs\u001b[0m\u001b[0;34m\u001b[0m\u001b[0;34m\u001b[0m\u001b[0;34m\u001b[0m\u001b[0m\n",
            "\u001b[0;32m/usr/local/lib/python3.6/dist-packages/sklearn/ensemble/forest.py\u001b[0m in \u001b[0;36m_validate_X_predict\u001b[0;34m(self, X)\u001b[0m\n\u001b[1;32m    360\u001b[0m                                  \"call `fit` before exploiting the model.\")\n\u001b[1;32m    361\u001b[0m \u001b[0;34m\u001b[0m\u001b[0m\n\u001b[0;32m--> 362\u001b[0;31m         \u001b[0;32mreturn\u001b[0m \u001b[0mself\u001b[0m\u001b[0;34m.\u001b[0m\u001b[0mestimators_\u001b[0m\u001b[0;34m[\u001b[0m\u001b[0;36m0\u001b[0m\u001b[0;34m]\u001b[0m\u001b[0;34m.\u001b[0m\u001b[0m_validate_X_predict\u001b[0m\u001b[0;34m(\u001b[0m\u001b[0mX\u001b[0m\u001b[0;34m,\u001b[0m \u001b[0mcheck_input\u001b[0m\u001b[0;34m=\u001b[0m\u001b[0;32mTrue\u001b[0m\u001b[0;34m)\u001b[0m\u001b[0;34m\u001b[0m\u001b[0;34m\u001b[0m\u001b[0m\n\u001b[0m\u001b[1;32m    363\u001b[0m \u001b[0;34m\u001b[0m\u001b[0m\n\u001b[1;32m    364\u001b[0m     \u001b[0;34m@\u001b[0m\u001b[0mproperty\u001b[0m\u001b[0;34m\u001b[0m\u001b[0;34m\u001b[0m\u001b[0m\n",
            "\u001b[0;32m/usr/local/lib/python3.6/dist-packages/sklearn/tree/tree.py\u001b[0m in \u001b[0;36m_validate_X_predict\u001b[0;34m(self, X, check_input)\u001b[0m\n\u001b[1;32m    375\u001b[0m         \u001b[0;34m\"\"\"Validate X whenever one tries to predict, apply, predict_proba\"\"\"\u001b[0m\u001b[0;34m\u001b[0m\u001b[0;34m\u001b[0m\u001b[0m\n\u001b[1;32m    376\u001b[0m         \u001b[0;32mif\u001b[0m \u001b[0mcheck_input\u001b[0m\u001b[0;34m:\u001b[0m\u001b[0;34m\u001b[0m\u001b[0;34m\u001b[0m\u001b[0m\n\u001b[0;32m--> 377\u001b[0;31m             \u001b[0mX\u001b[0m \u001b[0;34m=\u001b[0m \u001b[0mcheck_array\u001b[0m\u001b[0;34m(\u001b[0m\u001b[0mX\u001b[0m\u001b[0;34m,\u001b[0m \u001b[0mdtype\u001b[0m\u001b[0;34m=\u001b[0m\u001b[0mDTYPE\u001b[0m\u001b[0;34m,\u001b[0m \u001b[0maccept_sparse\u001b[0m\u001b[0;34m=\u001b[0m\u001b[0;34m\"csr\"\u001b[0m\u001b[0;34m)\u001b[0m\u001b[0;34m\u001b[0m\u001b[0;34m\u001b[0m\u001b[0m\n\u001b[0m\u001b[1;32m    378\u001b[0m             if issparse(X) and (X.indices.dtype != np.intc or\n\u001b[1;32m    379\u001b[0m                                 X.indptr.dtype != np.intc):\n",
            "\u001b[0;32m/usr/local/lib/python3.6/dist-packages/sklearn/utils/validation.py\u001b[0m in \u001b[0;36mcheck_array\u001b[0;34m(array, accept_sparse, accept_large_sparse, dtype, order, copy, force_all_finite, ensure_2d, allow_nd, ensure_min_samples, ensure_min_features, warn_on_dtype, estimator)\u001b[0m\n\u001b[1;32m    525\u001b[0m             \u001b[0;32mtry\u001b[0m\u001b[0;34m:\u001b[0m\u001b[0;34m\u001b[0m\u001b[0;34m\u001b[0m\u001b[0m\n\u001b[1;32m    526\u001b[0m                 \u001b[0mwarnings\u001b[0m\u001b[0;34m.\u001b[0m\u001b[0msimplefilter\u001b[0m\u001b[0;34m(\u001b[0m\u001b[0;34m'error'\u001b[0m\u001b[0;34m,\u001b[0m \u001b[0mComplexWarning\u001b[0m\u001b[0;34m)\u001b[0m\u001b[0;34m\u001b[0m\u001b[0;34m\u001b[0m\u001b[0m\n\u001b[0;32m--> 527\u001b[0;31m                 \u001b[0marray\u001b[0m \u001b[0;34m=\u001b[0m \u001b[0mnp\u001b[0m\u001b[0;34m.\u001b[0m\u001b[0masarray\u001b[0m\u001b[0;34m(\u001b[0m\u001b[0marray\u001b[0m\u001b[0;34m,\u001b[0m \u001b[0mdtype\u001b[0m\u001b[0;34m=\u001b[0m\u001b[0mdtype\u001b[0m\u001b[0;34m,\u001b[0m \u001b[0morder\u001b[0m\u001b[0;34m=\u001b[0m\u001b[0morder\u001b[0m\u001b[0;34m)\u001b[0m\u001b[0;34m\u001b[0m\u001b[0;34m\u001b[0m\u001b[0m\n\u001b[0m\u001b[1;32m    528\u001b[0m             \u001b[0;32mexcept\u001b[0m \u001b[0mComplexWarning\u001b[0m\u001b[0;34m:\u001b[0m\u001b[0;34m\u001b[0m\u001b[0;34m\u001b[0m\u001b[0m\n\u001b[1;32m    529\u001b[0m                 raise ValueError(\"Complex data not supported\\n\"\n",
            "\u001b[0;32m/usr/local/lib/python3.6/dist-packages/numpy/core/numeric.py\u001b[0m in \u001b[0;36masarray\u001b[0;34m(a, dtype, order)\u001b[0m\n\u001b[1;32m    490\u001b[0m \u001b[0;34m\u001b[0m\u001b[0m\n\u001b[1;32m    491\u001b[0m     \"\"\"\n\u001b[0;32m--> 492\u001b[0;31m     \u001b[0;32mreturn\u001b[0m \u001b[0marray\u001b[0m\u001b[0;34m(\u001b[0m\u001b[0ma\u001b[0m\u001b[0;34m,\u001b[0m \u001b[0mdtype\u001b[0m\u001b[0;34m,\u001b[0m \u001b[0mcopy\u001b[0m\u001b[0;34m=\u001b[0m\u001b[0;32mFalse\u001b[0m\u001b[0;34m,\u001b[0m \u001b[0morder\u001b[0m\u001b[0;34m=\u001b[0m\u001b[0morder\u001b[0m\u001b[0;34m)\u001b[0m\u001b[0;34m\u001b[0m\u001b[0;34m\u001b[0m\u001b[0m\n\u001b[0m\u001b[1;32m    493\u001b[0m \u001b[0;34m\u001b[0m\u001b[0m\n\u001b[1;32m    494\u001b[0m \u001b[0;34m\u001b[0m\u001b[0m\n",
            "\u001b[0;31mTypeError\u001b[0m: float() argument must be a string or a number, not 'method'"
          ]
        }
      ]
    },
    {
      "metadata": {
        "id": "C4XWgIUVg61P",
        "colab_type": "code",
        "colab": {}
      },
      "cell_type": "code",
      "source": [
        "mape = 100 * (errors/y_train_HT1)"
      ],
      "execution_count": 0,
      "outputs": []
    },
    {
      "metadata": {
        "id": "7fXB529Bg67K",
        "colab_type": "code",
        "colab": {}
      },
      "cell_type": "code",
      "source": [
        "accuracy = 100 - np.mean(mape)"
      ],
      "execution_count": 0,
      "outputs": []
    },
    {
      "metadata": {
        "id": "PUBuCtBwg6-F",
        "colab_type": "code",
        "outputId": "6278bf0f-8ba7-4044-9bc4-b8628da667a5",
        "colab": {
          "base_uri": "https://localhost:8080/",
          "height": 35
        }
      },
      "cell_type": "code",
      "source": [
        "accuracy"
      ],
      "execution_count": 0,
      "outputs": [
        {
          "output_type": "execute_result",
          "data": {
            "text/plain": [
              "96.45689534162533"
            ]
          },
          "metadata": {
            "tags": []
          },
          "execution_count": 28
        }
      ]
    },
    {
      "metadata": {
        "id": "SmjeH0IbgBWG",
        "colab_type": "code",
        "colab": {}
      },
      "cell_type": "code",
      "source": [
        ""
      ],
      "execution_count": 0,
      "outputs": []
    },
    {
      "metadata": {
        "id": "GDkW2hzHahR-",
        "colab_type": "code",
        "outputId": "3f30ab0b-bc71-40db-b045-96b2855c7bbc",
        "colab": {
          "base_uri": "https://localhost:8080/",
          "height": 164
        }
      },
      "cell_type": "code",
      "source": [
        "!pip3 install datetools"
      ],
      "execution_count": 0,
      "outputs": [
        {
          "output_type": "stream",
          "text": [
            "Collecting datetools\n",
            "  Downloading https://files.pythonhosted.org/packages/49/ff/ad0df8b9182fb06181a6ac5c7fb5057cd1d098f41af83f3e133c6a0cdd68/DateTools-1.1.tar.gz\n",
            "Building wheels for collected packages: datetools\n",
            "  Building wheel for datetools (setup.py) ... \u001b[?25ldone\n",
            "\u001b[?25h  Stored in directory: /root/.cache/pip/wheels/fd/8b/bf/cfd6f9f3f4e72f9b9a94aa9ecc3f96e5f3ae3590c67ca4fb58\n",
            "Successfully built datetools\n",
            "Installing collected packages: datetools\n",
            "Successfully installed datetools-1.1\n"
          ],
          "name": "stdout"
        }
      ]
    },
    {
      "metadata": {
        "id": "QGfpnyGqanGe",
        "colab_type": "code",
        "colab": {}
      },
      "cell_type": "code",
      "source": [
        ""
      ],
      "execution_count": 0,
      "outputs": []
    }
  ]
}